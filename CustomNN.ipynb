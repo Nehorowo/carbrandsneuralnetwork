{
 "cells": [
  {
   "cell_type": "code",
   "execution_count": null,
   "metadata": {
    "colab_type": "text",
    "id": "fehBvXxD1Q-h"
   },
   "outputs": [],
   "source": [
    "### Импорт зависимостей"
   ]
  },
  {
   "cell_type": "code",
   "execution_count": 0,
   "metadata": {
    "colab": {
     "autoexec": {
      "startup": false,
      "wait_interval": 0
     }
    },
    "colab_type": "code",
    "collapsed": true,
    "id": "U9R3YlWvyj6s"
   },
   "outputs": [],
   "source": [
    "import os\n",
    "\n",
    "import numpy as np\n",
    "import skimage.io\n",
    "import matplotlib.pyplot as plt"
   ]
  },
  {
   "cell_type": "markdown",
   "metadata": {
    "colab_type": "text",
    "id": "13Od_mY11XNf"
   },
   "source": [
    "### Исследование экземпляра из набора данных"
   ]
  },
  {
   "cell_type": "markdown",
   "metadata": {
    "colab_type": "text",
    "id": "0Kr8hhIe2z7a"
   },
   "source": [
    "Форма изображения: 32 пикселя - высота, 32 пикселя - ширина, 4 цветовых канала"
   ]
  },
  {
   "cell_type": "code",
   "execution_count": 2,
   "metadata": {
    "colab": {
     "autoexec": {
      "startup": false,
      "wait_interval": 0
     },
     "base_uri": "https://localhost:8080/",
     "height": 34
    },
    "colab_type": "code",
    "executionInfo": {
     "elapsed": 442,
     "status": "ok",
     "timestamp": 1529078315381,
     "user": {
      "displayName": "Виталий Бурачёнок",
      "photoUrl": "https://lh3.googleusercontent.com/a/default-user=s128",
      "userId": "103401375552756838597"
     },
     "user_tz": -180
    },
    "id": "uH5cU8CozORy",
    "outputId": "a7ae50e4-b6c9-46ca-bef9-c420147c11eb"
   },
   "outputs": [
    {
     "data": {
      "text/plain": [
       "(32, 32, 4)"
      ]
     },
     "execution_count": 2,
     "metadata": {
      "tags": []
     },
     "output_type": "execute_result"
    }
   ],
   "source": [
    "bmw = skimage.io.imread('./data/bmw/bmw1.png')\n",
    "bmw.shape"
   ]
  },
  {
   "cell_type": "code",
   "execution_count": 3,
   "metadata": {
    "colab": {
     "autoexec": {
      "startup": false,
      "wait_interval": 0
     },
     "base_uri": "https://localhost:8080/",
     "height": 272
    },
    "colab_type": "code",
    "executionInfo": {
     "elapsed": 954,
     "status": "ok",
     "timestamp": 1529078317280,
     "user": {
      "displayName": "Виталий Бурачёнок",
      "photoUrl": "https://lh3.googleusercontent.com/a/default-user=s128",
      "userId": "103401375552756838597"
     },
     "user_tz": -180
    },
    "id": "F6zKH2HK13s6",
    "outputId": "dd8b03d3-65fd-4f8a-f9cc-78cd2c86a8d5"
   },
   "outputs": [
    {
     "data": {
      "text/plain": [
       "<matplotlib.image.AxesImage at 0x7f241d325668>"
      ]
     },
     "execution_count": 3,
     "metadata": {
      "tags": []
     },
     "output_type": "execute_result"
    },
    {
     "data": {
      "image/png": "[encoded data removed]",
      "text/plain": [
       "<matplotlib.figure.Figure at 0x7f241d4e09b0>"
      ]
     },
     "metadata": {
      "tags": []
     },
     "output_type": "display_data"
    }
   ],
   "source": [
    "fig, ax = plt.subplots(1,5,figsize=(20,5))\n",
    "ax[0].grid(False)\n",
    "ax[0].set_title('Сумма 4х каналов')\n",
    "ax[0].imshow(bmw)\n",
    "\n",
    "ax[1].grid(False)\n",
    "ax[1].set_title('Канал красного цвета')\n",
    "ax[1].imshow(bmw[:,:,0])\n",
    "\n",
    "ax[2].grid(False)\n",
    "ax[2].set_title('Канал зеленого цвета')\n",
    "ax[2].imshow(bmw[:,:,1])\n",
    "\n",
    "ax[3].grid(False)\n",
    "ax[3].set_title('Канал синего цвета')\n",
    "ax[3].imshow(bmw[:,:,2])\n",
    "\n",
    "ax[4].grid(False)\n",
    "ax[4].set_title('4й канал')\n",
    "ax[4].imshow(bmw[:,:,3])"
   ]
  },
  {
   "cell_type": "code",
   "execution_count": 4,
   "metadata": {
    "colab": {
     "autoexec": {
      "startup": false,
      "wait_interval": 0
     },
     "base_uri": "https://localhost:8080/",
     "height": 34
    },
    "colab_type": "code",
    "executionInfo": {
     "elapsed": 971,
     "status": "ok",
     "timestamp": 1529078319160,
     "user": {
      "displayName": "Виталий Бурачёнок",
      "photoUrl": "https://lh3.googleusercontent.com/a/default-user=s128",
      "userId": "103401375552756838597"
     },
     "user_tz": -180
    },
    "id": "HXuKfeO51nkN",
    "outputId": "8c8217fd-809e-4edd-bb03-e5fcf0951389"
   },
   "outputs": [
    {
     "data": {
      "text/plain": [
       "0.0"
      ]
     },
     "execution_count": 4,
     "metadata": {
      "tags": []
     },
     "output_type": "execute_result"
    }
   ],
   "source": [
    "# Последний канал явно не содержит никакой информацииб т.к. имеет нулевую дисперсию\n",
    "bmw[:,:,3].std()"
   ]
  },
  {
   "cell_type": "code",
   "execution_count": 5,
   "metadata": {
    "colab": {
     "autoexec": {
      "startup": false,
      "wait_interval": 0
     },
     "base_uri": "https://localhost:8080/",
     "height": 34
    },
    "colab_type": "code",
    "executionInfo": {
     "elapsed": 694,
     "status": "ok",
     "timestamp": 1529078320478,
     "user": {
      "displayName": "Виталий Бурачёнок",
      "photoUrl": "https://lh3.googleusercontent.com/a/default-user=s128",
      "userId": "103401375552756838597"
     },
     "user_tz": -180
    },
    "id": "QgxZkJb-3xbX",
    "outputId": "f32fb355-649b-4ee3-feea-1ed555e172f7"
   },
   "outputs": [
    {
     "data": {
      "text/plain": [
       "True"
      ]
     },
     "execution_count": 5,
     "metadata": {
      "tags": []
     },
     "output_type": "execute_result"
    }
   ],
   "source": [
    "# Информация в цветовых каналах дублируется т.к. дисперсия у каждого канала одинаковая \n",
    "bmw[:,:,0].std() == bmw[:,:,1].std()  == bmw[:,:,2].std()"
   ]
  },
  {
   "cell_type": "markdown",
   "metadata": {
    "colab_type": "text",
    "id": "6_enZ13P5X1j"
   },
   "source": [
    "### Загрузка изображений в оперативную память и их очистка от лишней информации. Добавление меток"
   ]
  },
  {
   "cell_type": "code",
   "execution_count": 0,
   "metadata": {
    "colab": {
     "autoexec": {
      "startup": false,
      "wait_interval": 0
     }
    },
    "colab_type": "code",
    "collapsed": true,
    "id": "48yq40i_6TUn"
   },
   "outputs": [],
   "source": [
    "def load_images(path):\n",
    "    '''Функция загружает все изображения в указанной папке, склеивает все каналы изображения в один. \n",
    "    Возвращает список всех изображений из заданной папки'''\n",
    "    fnames = next(os.walk(path))[2] # Получение списка файлов в заданной папке\n",
    "    \n",
    "    img_set = []\n",
    "    for fname in fnames:\n",
    "        try:\n",
    "            img = skimage.io.imread(os.path.join(path, fname)) # Загрузка изображения \n",
    "            img = img[:,:,:3].mean(axis=2) # Усреднение каналов изображения к одному\n",
    "            img_set.append(img)\n",
    "        except FileNotFoundError:\n",
    "            print('Ошибка загрузки файла {0}'.format(fname))\n",
    "    return img_set"
   ]
  },
  {
   "cell_type": "code",
   "execution_count": 0,
   "metadata": {
    "colab": {
     "autoexec": {
      "startup": false,
      "wait_interval": 0
     }
    },
    "colab_type": "code",
    "collapsed": true,
    "id": "dnFoxwTS9hOv"
   },
   "outputs": [],
   "source": [
    "alfaromeo_imgs = load_images('./data/alfaromeo/') # Загрузка всех изображений класса\n",
    "alfaromeo_labels = [[1,0,0,0,0]]*len(alfaromeo_imgs) # Пометка изображений этого класса как класс №1"
   ]
  },
  {
   "cell_type": "code",
   "execution_count": 0,
   "metadata": {
    "colab": {
     "autoexec": {
      "startup": false,
      "wait_interval": 0
     }
    },
    "colab_type": "code",
    "collapsed": true,
    "id": "8hPEtRQCEP3k"
   },
   "outputs": [],
   "source": [
    "bmw_imgs = load_images('./data/bmw/') # Загрузка всех изображений класса\n",
    "bmw_labels = [[0,1,0,0,0]]*len(bmw_imgs) # Пометка изображений этого класса как класс №2"
   ]
  },
  {
   "cell_type": "code",
   "execution_count": 0,
   "metadata": {
    "colab": {
     "autoexec": {
      "startup": false,
      "wait_interval": 0
     }
    },
    "colab_type": "code",
    "collapsed": true,
    "id": "mu8a09UVEkEt"
   },
   "outputs": [],
   "source": [
    "chevrolet_imgs = load_images('./data/chevrolet/') # Загрузка всех изображений класса\n",
    "chevrolet_labels = [[0,0,1,0,0]]*len(chevrolet_imgs) # Пометка изображений этого класса как класс №3"
   ]
  },
  {
   "cell_type": "code",
   "execution_count": 0,
   "metadata": {
    "colab": {
     "autoexec": {
      "startup": false,
      "wait_interval": 0
     }
    },
    "colab_type": "code",
    "collapsed": true,
    "id": "j6BiAUXdEvjt"
   },
   "outputs": [],
   "source": [
    "honda_imgs = load_images('./data/honda/') # Загрузка всех изображений класса\n",
    "honda_labels = [[0,0,0,1,0]]*len(honda_imgs) # Пометка изображений этого класса как класс №4"
   ]
  },
  {
   "cell_type": "code",
   "execution_count": 0,
   "metadata": {
    "colab": {
     "autoexec": {
      "startup": false,
      "wait_interval": 0
     }
    },
    "colab_type": "code",
    "collapsed": true,
    "id": "80cAa4xgGWkx"
   },
   "outputs": [],
   "source": [
    "# Генерация изображений не принадлежащих ни одному из 4х классов\n",
    "trash_imgs = [(alfaromeo_imgs[i] + bmw_imgs[i] + chevrolet_imgs[i] + honda_imgs[i])/4 for i in range(200)]\n",
    "trash_labels = [[0,0,0,0,1]]*len(trash_imgs) # Пометка изображений этого класса как класс №5"
   ]
  },
  {
   "cell_type": "code",
   "execution_count": 0,
   "metadata": {
    "colab": {
     "autoexec": {
      "startup": false,
      "wait_interval": 0
     }
    },
    "colab_type": "code",
    "collapsed": true,
    "id": "DUDzY8Q7G5xx"
   },
   "outputs": [],
   "source": [
    "# Объединение наборов в один\n",
    "input_data = alfaromeo_imgs + bmw_imgs + chevrolet_imgs + honda_imgs + trash_imgs\n",
    "output_data = alfaromeo_labels + bmw_labels + chevrolet_labels + honda_labels + trash_labels"
   ]
  },
  {
   "cell_type": "code",
   "execution_count": 0,
   "metadata": {
    "colab": {
     "autoexec": {
      "startup": false,
      "wait_interval": 0
     }
    },
    "colab_type": "code",
    "collapsed": true,
    "id": "95OLW0piJ9F4"
   },
   "outputs": [],
   "source": [
    "# Преобрвазование данных из python-list в numpy array\n",
    "input_data = np.array(input_data)\n",
    "output_data = np.array(output_data)"
   ]
  },
  {
   "cell_type": "code",
   "execution_count": 0,
   "metadata": {
    "colab": {
     "autoexec": {
      "startup": false,
      "wait_interval": 0
     }
    },
    "colab_type": "code",
    "collapsed": true,
    "id": "kF5wWfYL0E8R"
   },
   "outputs": [],
   "source": [
    "# Преобразование квадратной матрицы изображения в вектор длинной 32x32px\n",
    "input_data = input_data.reshape(1100, -1)"
   ]
  },
  {
   "cell_type": "code",
   "execution_count": 0,
   "metadata": {
    "colab": {
     "autoexec": {
      "startup": false,
      "wait_interval": 0
     }
    },
    "colab_type": "code",
    "collapsed": true,
    "id": "zEq5oNXYKbHj"
   },
   "outputs": [],
   "source": [
    "# Нормализация входных данных к интервалу от 0 до 1\n",
    "input_data = input_data - input_data.min()\n",
    "input_data = input_data / input_data.max()"
   ]
  },
  {
   "cell_type": "code",
   "execution_count": 0,
   "metadata": {
    "colab": {
     "autoexec": {
      "startup": false,
      "wait_interval": 0
     }
    },
    "colab_type": "code",
    "collapsed": true,
    "id": "gzcATQ06KUWx"
   },
   "outputs": [],
   "source": [
    "# Проверка размерности данных\n",
    "assert input_data.shape[0] == output_data.shape[0]"
   ]
  },
  {
   "cell_type": "code",
   "execution_count": 0,
   "metadata": {
    "colab": {
     "autoexec": {
      "startup": false,
      "wait_interval": 0
     }
    },
    "colab_type": "code",
    "collapsed": true,
    "id": "ib8MMuaNNLtI"
   },
   "outputs": [],
   "source": [
    "# Разбивка набора данных на тренировачную и тестовую части\n",
    "indexes = np.arange(input_data.shape[0]) \n",
    "np.random.shuffle(indexes)\n",
    "train_indexes = indexes[len(indexes)//10:]\n",
    "test_indexes = indexes[:len(indexes)//10]\n",
    "\n",
    "X_train, y_train = input_data[train_indexes], output_data[train_indexes]\n",
    "X_test, y_test = input_data[test_indexes], output_data[test_indexes]"
   ]
  },
  {
   "cell_type": "code",
   "execution_count": 18,
   "metadata": {
    "colab": {
     "autoexec": {
      "startup": false,
      "wait_interval": 0
     },
     "base_uri": "https://localhost:8080/",
     "height": 51
    },
    "colab_type": "code",
    "executionInfo": {
     "elapsed": 593,
     "status": "ok",
     "timestamp": 1529078339123,
     "user": {
      "displayName": "Виталий Бурачёнок",
      "photoUrl": "https://lh3.googleusercontent.com/a/default-user=s128",
      "userId": "103401375552756838597"
     },
     "user_tz": -180
    },
    "id": "RUbV1rKuNwg8",
    "outputId": "49d5c021-0172-4330-a343-53b38a4d0712"
   },
   "outputs": [
    {
     "name": "stdout",
     "output_type": "stream",
     "text": [
      "train: x - (990, 1024), y - (990, 5)\n",
      "test: x - (110, 1024), y - (110, 5)\n"
     ]
    }
   ],
   "source": [
    "print('train: x - {0}, y - {1}'.format(X_train.shape, y_train.shape))\n",
    "print('test: x - {0}, y - {1}'.format(X_test.shape, y_test.shape))"
   ]
  },
  {
   "cell_type": "markdown",
   "metadata": {
    "colab_type": "text",
    "id": "0AcqFFByt--P"
   },
   "source": [
    "### Создание и обучение модели"
   ]
  },
  {
   "cell_type": "code",
   "execution_count": 0,
   "metadata": {
    "colab": {
     "autoexec": {
      "startup": false,
      "wait_interval": 0
     }
    },
    "colab_type": "code",
    "collapsed": true,
    "id": "qamiimTBIiqo"
   },
   "outputs": [],
   "source": [
    "def relu(x):\n",
    "    '''Нелинейное преобразование'''\n",
    "    return np.maximum(x, 0)\n",
    "\n",
    "def drelu(x):\n",
    "    '''Производная функции relu'''\n",
    "    return 1.0 * (x > 0)\n",
    "\n",
    "def softmax(z):\n",
    "    '''Логистическое преобразование'''\n",
    "    assert len(z.shape) == 2\n",
    "    s = np.max(z, axis=1)\n",
    "    s = s[:, np.newaxis]\n",
    "    e_x = np.exp(z - s)\n",
    "    div = np.sum(e_x, axis=1)\n",
    "    div = div[:, np.newaxis]\n",
    "    return e_x / div\n",
    "\n",
    "def feed_forward(X, weights):\n",
    "    '''Прямой проход входных данных через все слои'''\n",
    "    activations = [X]\n",
    "    for w in weights:\n",
    "        activations.append(relu(activations[-1].dot(w)))\n",
    "    activations[-1] = softmax(activations[-1])\n",
    "    return activations\n",
    "\n",
    "def grads(X, Y, weights):\n",
    "    '''Запуск прямого прохода, расчет величины ошибки и вычисление градиента для корректировки весов'''\n",
    "    activations = feed_forward(X, weights)\n",
    "    grads = np.empty_like(weights)\n",
    "    delta = activations[-1] - Y # Расчет величины ошибки\n",
    "    grads[-1] = activations[-2].T.dot(delta)\n",
    "    for i in range(len(activations)-2, 0, -1):\n",
    "        delta = drelu(activations[i]) * delta.dot(weights[i].T)\n",
    "        grads[i-1] = activations[i-1].T.dot(delta)\n",
    "    return grads / len(X)"
   ]
  },
  {
   "cell_type": "code",
   "execution_count": 0,
   "metadata": {
    "colab": {
     "autoexec": {
      "startup": false,
      "wait_interval": 0
     }
    },
    "colab_type": "code",
    "collapsed": true,
    "id": "1Oc_bbrzrK2g"
   },
   "outputs": [],
   "source": [
    "# Инициализация весов и настройка параметров обучения\n",
    "weights = [np.random.randn(*w) * 0.1 for w in [(1024, 512), (512,256), (256,128), (128,5)]]\n",
    "num_epochs, batch_size, learn_rate = 200, 200, 0.005"
   ]
  },
  {
   "cell_type": "code",
   "execution_count": 77,
   "metadata": {
    "colab": {
     "autoexec": {
      "startup": false,
      "wait_interval": 0
     },
     "base_uri": "https://localhost:8080/",
     "height": 357
    },
    "colab_type": "code",
    "executionInfo": {
     "elapsed": 34760,
     "status": "ok",
     "timestamp": 1529079152118,
     "user": {
      "displayName": "Виталий Бурачёнок",
      "photoUrl": "https://lh3.googleusercontent.com/a/default-user=s128",
      "userId": "103401375552756838597"
     },
     "user_tz": -180
    },
    "id": "gqPr5MzFxFEA",
    "outputId": "f53c591c-1a44-4614-c1e7-98d605f2f9ca"
   },
   "outputs": [
    {
     "name": "stdout",
     "output_type": "stream",
     "text": [
      "accuracy: 0.3364\n",
      "accuracy: 0.5091\n",
      "accuracy: 0.5636\n",
      "accuracy: 0.5909\n",
      "accuracy: 0.5909\n",
      "accuracy: 0.6091\n",
      "accuracy: 0.6364\n",
      "accuracy: 0.6455\n",
      "accuracy: 0.6636\n",
      "accuracy: 0.6818\n",
      "accuracy: 0.7\n",
      "accuracy: 0.7182\n",
      "accuracy: 0.7273\n",
      "accuracy: 0.7273\n",
      "accuracy: 0.7364\n",
      "accuracy: 0.7455\n",
      "accuracy: 0.7455\n",
      "accuracy: 0.7455\n",
      "accuracy: 0.7364\n",
      "accuracy: 0.7545\n"
     ]
    }
   ],
   "source": [
    "# Минимизация функции потерь\n",
    "for i_epoch in range(num_epochs):\n",
    "    for i_batch in range(0, len(X_train), batch_size):\n",
    "        # Разделение набора на батчи\n",
    "        X, Y = X_train[i_batch:i_batch+batch_size], y_train[i_batch:i_batch+batch_size]\n",
    "        \n",
    "        # Вычисление градиента и корректировка весов\n",
    "        weights -= learn_rate * grads(X, Y, weights)\n",
    "        \n",
    "    # Оценка точности\n",
    "    predict_proba = softmax(feed_forward(X_test, weights)[-1])\n",
    "    prediction = np.argmax(predict_proba, axis=1)\n",
    "    score = np.mean(prediction == np.argmax(y_test, axis=1))\n",
    "    if i_epoch%10 == 0:\n",
    "        print('accuracy: {0:.4}'.format(score))"
   ]
  },
  {
   "cell_type": "code",
   "execution_count": 80,
   "metadata": {
    "colab": {
     "autoexec": {
      "startup": false,
      "wait_interval": 0
     },
     "base_uri": "https://localhost:8080/",
     "height": 102
    },
    "colab_type": "code",
    "executionInfo": {
     "elapsed": 886,
     "status": "ok",
     "timestamp": 1529079193113,
     "user": {
      "displayName": "Виталий Бурачёнок",
      "photoUrl": "https://lh3.googleusercontent.com/a/default-user=s128",
      "userId": "103401375552756838597"
     },
     "user_tz": -180
    },
    "id": "2GfjEPr21iJo",
    "outputId": "42e6c77f-999f-4ab3-c66b-0623e7b53f16"
   },
   "outputs": [
    {
     "data": {
      "text/plain": [
       "array([1, 1, 2, 3, 1, 2, 4, 3, 1, 3, 1, 2, 3, 3, 4, 1, 2, 2, 0, 4, 1, 4,\n",
       "       2, 0, 1, 3, 1, 1, 4, 2, 1, 1, 0, 1, 2, 4, 4, 2, 0, 3, 1, 3, 1, 3,\n",
       "       0, 4, 4, 2, 1, 1, 0, 3, 0, 2, 3, 2, 0, 4, 3, 1, 2, 2, 0, 1, 2, 2,\n",
       "       0, 4, 0, 1, 0, 1, 3, 4, 3, 4, 0, 3, 0, 1, 0, 1, 4, 2, 0, 2, 1, 0,\n",
       "       3, 2, 4, 1, 3, 2, 2, 2, 1, 4, 1, 0])"
      ]
     },
     "execution_count": 80,
     "metadata": {
      "tags": []
     },
     "output_type": "execute_result"
    }
   ],
   "source": [
    "# Получение предсказаний первых 100 изображений из отложенного тестового набора\n",
    "activation = feed_forward(X_test[:100], weights)[-1]\n",
    "proba = softmax(activation)\n",
    "np.argmax(proba, axis=1)"
   ]
  },
  {
   "cell_type": "code",
   "execution_count": 82,
   "metadata": {
    "colab": {
     "autoexec": {
      "startup": false,
      "wait_interval": 0
     },
     "base_uri": "https://localhost:8080/",
     "height": 102
    },
    "colab_type": "code",
    "executionInfo": {
     "elapsed": 565,
     "status": "ok",
     "timestamp": 1529079248558,
     "user": {
      "displayName": "Виталий Бурачёнок",
      "photoUrl": "https://lh3.googleusercontent.com/a/default-user=s128",
      "userId": "103401375552756838597"
     },
     "user_tz": -180
    },
    "id": "P90fa2rpmt_3",
    "outputId": "f7c85679-c288-4f31-b95a-2f68bde35ffa"
   },
   "outputs": [
    {
     "data": {
      "text/plain": [
       "array([2, 3, 2, 2, 1, 2, 2, 1, 1, 3, 1, 2, 3, 3, 4, 2, 2, 2, 1, 4, 1, 4,\n",
       "       1, 0, 1, 3, 1, 1, 4, 2, 2, 1, 0, 1, 3, 4, 4, 3, 0, 3, 1, 3, 1, 0,\n",
       "       0, 0, 4, 2, 1, 1, 0, 1, 0, 2, 1, 2, 0, 0, 0, 1, 2, 2, 0, 3, 2, 2,\n",
       "       0, 4, 0, 0, 4, 0, 3, 4, 3, 4, 0, 3, 0, 1, 0, 1, 4, 2, 4, 2, 0, 0,\n",
       "       3, 2, 4, 1, 3, 2, 2, 3, 1, 4, 3, 0])"
      ]
     },
     "execution_count": 82,
     "metadata": {
      "tags": []
     },
     "output_type": "execute_result"
    }
   ],
   "source": [
    "# Истинные метки классов для этих первых 100 изображений\n",
    "np.argmax(y_test[:100], axis=1)"
   ]
  },
  {
   "cell_type": "code",
   "execution_count": 86,
   "metadata": {
    "colab": {
     "autoexec": {
      "startup": false,
      "wait_interval": 0
     },
     "base_uri": "https://localhost:8080/",
     "height": 102
    },
    "colab_type": "code",
    "executionInfo": {
     "elapsed": 678,
     "status": "ok",
     "timestamp": 1529079421722,
     "user": {
      "displayName": "Виталий Бурачёнок",
      "photoUrl": "https://lh3.googleusercontent.com/a/default-user=s128",
      "userId": "103401375552756838597"
     },
     "user_tz": -180
    },
    "id": "UMo8N6GBmxLu",
    "outputId": "2e037ed5-a18a-463f-b514-e0ff7c2dbcc6"
   },
   "outputs": [
    {
     "data": {
      "text/plain": [
       "array([0, 0, 1, 0, 1, 1, 0, 0, 1, 1, 1, 1, 1, 1, 1, 0, 1, 1, 0, 1, 1, 1,\n",
       "       0, 1, 1, 1, 1, 1, 1, 1, 0, 1, 1, 1, 0, 1, 1, 0, 1, 1, 1, 1, 1, 0,\n",
       "       1, 0, 1, 1, 1, 1, 1, 0, 1, 1, 0, 1, 1, 0, 0, 1, 1, 1, 1, 0, 1, 1,\n",
       "       1, 1, 1, 0, 0, 0, 1, 1, 1, 1, 1, 1, 1, 1, 1, 1, 1, 1, 0, 1, 0, 1,\n",
       "       1, 1, 1, 1, 1, 1, 1, 0, 1, 1, 0, 1])"
      ]
     },
     "execution_count": 86,
     "metadata": {
      "tags": []
     },
     "output_type": "execute_result"
    }
   ],
   "source": [
    "# 1 - правильно распознанный класс, 0 - предсказанный класс не совпал с целевым\n",
    "score = np.equal(np.argmax(proba, axis=1), np.argmax(y_test[:100], axis=1)).astype(int)\n",
    "score"
   ]
  },
  {
   "cell_type": "code",
   "execution_count": 87,
   "metadata": {
    "colab": {
     "autoexec": {
      "startup": false,
      "wait_interval": 0
     },
     "base_uri": "https://localhost:8080/",
     "height": 34
    },
    "colab_type": "code",
    "executionInfo": {
     "elapsed": 1207,
     "status": "ok",
     "timestamp": 1529079480117,
     "user": {
      "displayName": "Виталий Бурачёнок",
      "photoUrl": "https://lh3.googleusercontent.com/a/default-user=s128",
      "userId": "103401375552756838597"
     },
     "user_tz": -180
    },
    "id": "K_jHw-btM7PC",
    "outputId": "8f9a1739-59bc-4e21-8e28-dfc66d0ff692"
   },
   "outputs": [
    {
     "data": {
      "text/plain": [
       "0.75"
      ]
     },
     "execution_count": 87,
     "metadata": {
      "tags": []
     },
     "output_type": "execute_result"
    }
   ],
   "source": [
    "# Процент правильно распознанных изображений. \n",
    "score.sum() / score.shape[0] # т.е. 75% изображений были распознаны верно"
   ]
  },
  {
   "cell_type": "code",
   "execution_count": 0,
   "metadata": {
    "colab": {
     "autoexec": {
      "startup": false,
      "wait_interval": 0
     }
    },
    "colab_type": "code",
    "collapsed": true,
    "id": "KXwy4tINNHU3"
   },
   "outputs": [],
   "source": []
  }
 ],
 "metadata": {
  "colab": {
   "collapsed_sections": [],
   "default_view": {},
   "name": "CustomNN.ipynb",
   "provenance": [],
   "version": "0.3.2",
   "views": {}
  },
  "kernelspec": {
   "display_name": "Python 3",
   "language": "python",
   "name": "python3"
  },
  "language_info": {
   "codemirror_mode": {
    "name": "ipython",
    "version": 3
   },
   "file_extension": ".py",
   "mimetype": "text/x-python",
   "name": "python",
   "nbconvert_exporter": "python",
   "pygments_lexer": "ipython3",
   "version": "3.6.4"
  }
 },
 "nbformat": 4,
 "nbformat_minor": 1
}
